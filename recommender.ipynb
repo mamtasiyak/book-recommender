{
 "cells": [
  {
   "cell_type": "code",
   "execution_count": 1,
   "id": "1bff09f3",
   "metadata": {},
   "outputs": [],
   "source": [
    "import pandas as pd"
   ]
  },
  {
   "cell_type": "markdown",
   "id": "7258d3dd",
   "metadata": {},
   "source": [
    "# Load Datasets"
   ]
  },
  {
   "cell_type": "code",
   "execution_count": 2,
   "id": "8bf6b836",
   "metadata": {},
   "outputs": [],
   "source": [
    "ratings = pd.read_csv('ratings.csv')\n",
    "books = pd.read_csv('books.csv')"
   ]
  },
  {
   "cell_type": "markdown",
   "id": "5dc9e44a",
   "metadata": {},
   "source": [
    "# Merge Ratings with Book Info"
   ]
  },
  {
   "cell_type": "code",
   "execution_count": 3,
   "id": "f72f9ef0",
   "metadata": {},
   "outputs": [],
   "source": [
    "merged = ratings.merge(books, on='book_id')"
   ]
  },
  {
   "cell_type": "markdown",
   "id": "8409a4fe",
   "metadata": {},
   "source": [
    "# Calculate average rating and rating count"
   ]
  },
  {
   "cell_type": "code",
   "execution_count": 4,
   "id": "8c425821",
   "metadata": {},
   "outputs": [],
   "source": [
    "book_stats = merged.groupby(['book_id', 'title']).agg(\n",
    "    avg_rating=('rating', 'mean'),\n",
    "    rating_count=('rating', 'count')\n",
    ").reset_index()"
   ]
  },
  {
   "cell_type": "markdown",
   "id": "0e06add5",
   "metadata": {},
   "source": [
    "# Recommend top 3 popular books"
   ]
  },
  {
   "cell_type": "code",
   "execution_count": 5,
   "id": "d7acfb4b",
   "metadata": {},
   "outputs": [
    {
     "name": "stdout",
     "output_type": "stream",
     "text": [
      "Top Recommended Books:\n",
      "           title  avg_rating  rating_count\n",
      "1           1984         8.5             2\n",
      "0  The Alchemist         8.0             2\n",
      "2     The Hobbit        10.0             1\n"
     ]
    }
   ],
   "source": [
    "def get_popular_books(top_n=3):\n",
    "    top_books = book_stats.sort_values(by=['rating_count', 'avg_rating'], ascending=False).head(top_n)\n",
    "    return top_books[['title', 'avg_rating', 'rating_count']]\n",
    "print(\"Top Recommended Books:\")\n",
    "print(get_popular_books())"
   ]
  },
  {
   "cell_type": "markdown",
   "id": "4d8fd4e1",
   "metadata": {},
   "source": [
    "## Personalized recommendation system using Collaborative Filtering (SVD)"
   ]
  },
  {
   "cell_type": "code",
   "execution_count": 7,
   "id": "6685c3d1",
   "metadata": {},
   "outputs": [],
   "source": [
    "# !pip install scikit-surprise pandas\n"
   ]
  },
  {
   "cell_type": "code",
   "execution_count": 8,
   "id": "c60263ad",
   "metadata": {},
   "outputs": [
    {
     "name": "stdout",
     "output_type": "stream",
     "text": [
      "\n",
      " Personalized Recommendations for User 1:\n",
      "                   title          author  predicted_rating\n",
      "0             The Hobbit  J.R.R. Tolkien          8.066399\n",
      "1  To Kill a Mockingbird      Harper Lee          8.020123\n"
     ]
    }
   ],
   "source": [
    "import pandas as pd\n",
    "from surprise import Dataset, Reader, SVD\n",
    "from surprise.model_selection import train_test_split\n",
    "\n",
    "# Load and prepare ratings data\n",
    "ratings = pd.read_csv(\"ratings.csv\")\n",
    "books = pd.read_csv(\"books.csv\")\n",
    "\n",
    "# Surprise needs data in (user, item, rating) format\n",
    "reader = Reader(rating_scale=(1, 10))\n",
    "data = Dataset.load_from_df(ratings[['user_id', 'book_id', 'rating']], reader)\n",
    "\n",
    "# Train-test split\n",
    "trainset, testset = train_test_split(data, test_size=0.2, random_state=42)\n",
    "\n",
    "# Train SVD model\n",
    "model = SVD()\n",
    "model.fit(trainset)\n",
    "\n",
    "# Recommend top N books for a given user\n",
    "def get_personalized_recommendations(user_id, n=3):\n",
    "    # Get all books not yet rated by the user\n",
    "    all_book_ids = books['book_id'].unique()\n",
    "    rated_books = ratings[ratings['user_id'] == user_id]['book_id'].tolist()\n",
    "    unrated_books = [book_id for book_id in all_book_ids if book_id not in rated_books]\n",
    "    \n",
    "    # Predict ratings for unrated books\n",
    "    predictions = []\n",
    "    for book_id in unrated_books:\n",
    "        pred = model.predict(user_id, book_id)\n",
    "        predictions.append((book_id, pred.est))\n",
    "\n",
    "    # Sort by predicted rating\n",
    "    top_n = sorted(predictions, key=lambda x: x[1], reverse=True)[:n]\n",
    "    \n",
    "    # Get book titles\n",
    "    recommended_books = books[books['book_id'].isin([b[0] for b in top_n])]\n",
    "    recommended_books = recommended_books.merge(\n",
    "        pd.DataFrame(top_n, columns=['book_id', 'predicted_rating']),\n",
    "        on='book_id'\n",
    "    )\n",
    "    return recommended_books[['title', 'author', 'predicted_rating']]\n",
    "\n",
    "# Example usage\n",
    "if __name__ == \"__main__\":\n",
    "    user_id = 1\n",
    "    print(f\"\\n Personalized Recommendations for User {user_id}:\")\n",
    "    print(get_personalized_recommendations(user_id))\n"
   ]
  },
  {
   "cell_type": "markdown",
   "id": "5cf8c59c",
   "metadata": {},
   "source": [
    "# Movie Data"
   ]
  },
  {
   "cell_type": "code",
   "execution_count": 9,
   "id": "f73dc081",
   "metadata": {},
   "outputs": [],
   "source": [
    "import pandas as pd\n",
    "from surprise import Dataset, Reader, SVD\n",
    "from surprise.model_selection import train_test_split\n",
    "from surprise.accuracy import rmse"
   ]
  },
  {
   "cell_type": "code",
   "execution_count": 10,
   "id": "a0649a8a",
   "metadata": {},
   "outputs": [
    {
     "name": "stdout",
     "output_type": "stream",
     "text": [
      "   user_id  item_id  rating  timestamp\n",
      "0      196      242       3  881250949\n",
      "1      186      302       3  891717742\n",
      "2       22      377       1  878887116\n",
      "3      244       51       2  880606923\n",
      "4      166      346       1  886397596\n"
     ]
    }
   ],
   "source": [
    "#Load data\n",
    "columnNames = ['user_id', 'item_id', 'rating', 'timestamp']\n",
    "ratings = pd.read_csv('ml-100k/u.data', sep='\\t', names=columnNames)\n",
    "print(ratings.head())"
   ]
  },
  {
   "cell_type": "code",
   "execution_count": 11,
   "id": "67544ba1",
   "metadata": {},
   "outputs": [
    {
     "name": "stdout",
     "output_type": "stream",
     "text": [
      "RMSE: 0.9409\n",
      "0.9408539252268319\n"
     ]
    }
   ],
   "source": [
    "# Convert pandas DataFrame to Surprise format\n",
    "reader = Reader(rating_scale=(1,5))\n",
    "data = Dataset.load_from_df(ratings[['user_id','item_id','rating']], reader)\n",
    "\n",
    "# Split into train and test data\n",
    "trainset, testset = train_test_split(data, test_size = 0.25, random_state=42)\n",
    "\n",
    "# Create SVD model\n",
    "model = SVD()\n",
    "\n",
    "# Train the model on training data\n",
    "model.fit(trainset)\n",
    "\n",
    "# Test how well the model predicts ratings\n",
    "predictions = model.test(testset)\n",
    "# rmse(predictions)\n",
    "print(rmse(predictions))"
   ]
  },
  {
   "cell_type": "code",
   "execution_count": 12,
   "id": "04ea2d5e",
   "metadata": {},
   "outputs": [
    {
     "name": "stdout",
     "output_type": "stream",
     "text": [
      "\n",
      "Top 5 Recommended Books for User 100:\n",
      "Book ID: 483, Predicted Rating: 4.58\n",
      "Book ID: 408, Predicted Rating: 4.57\n",
      "Book ID: 318, Predicted Rating: 4.55\n",
      "Book ID: 64, Predicted Rating: 4.51\n",
      "Book ID: 169, Predicted Rating: 4.51\n"
     ]
    }
   ],
   "source": [
    "# Get list of all unique item_ids (movies)\n",
    "all_items = ratings['item_id'].unique()\n",
    "\n",
    "# Let's pick a user\n",
    "user_id = str(100)  # convert to string as required by surprise\n",
    "\n",
    "# Find movies the user hasn't rated yet\n",
    "user_rated_items = ratings[ratings['user_id'] == int(user_id)]['item_id']\n",
    "unseen_items = [item for item in all_items if item not in user_rated_items.values]\n",
    "\n",
    "# Predict ratings for those unseen movies\n",
    "predictions = [model.predict(user_id, item_id) for item_id in unseen_items]\n",
    "\n",
    "# Sort by highest predicted rating\n",
    "top_5 = sorted(predictions, key=lambda x: x.est, reverse=True)[:5]\n",
    "\n",
    "print(f\"\\nTop 5 Recommended Books for User {user_id}:\")\n",
    "for pred in top_5:\n",
    "    print(f\"Book ID: {pred.iid}, Predicted Rating: {round(pred.est, 2)}\")\n"
   ]
  },
  {
   "cell_type": "markdown",
   "id": "b50b261d",
   "metadata": {},
   "source": [
    "# Books Data [Book-Crossing Dataset (Kaggle)]"
   ]
  },
  {
   "cell_type": "code",
   "execution_count": 15,
   "id": "c6a67338",
   "metadata": {},
   "outputs": [
    {
     "name": "stdout",
     "output_type": "stream",
     "text": [
      "Index(['User-ID', 'ISBN', 'Book-Rating'], dtype='object')\n"
     ]
    },
    {
     "data": {
      "text/plain": [
       "'\\n# Step 7: Recommend top 5 books to a user\\nuser_id = str(ratings[\\'user_id\\'].iloc[0])  # pick any user from the dataset\\n\\n# Get all book IDs\\nall_books = ratings[\\'book_id\\'].unique()\\nrated_books = ratings[ratings[\\'user_id\\'] == int(user_id)][\\'book_id\\']\\nunseen_books = [book for book in all_books if book not in rated_books.values]\\n\\n# Predict ratings\\npredictions = [model.predict(user_id, book_id) for book_id in unseen_books]\\ntop_5 = sorted(predictions, key=lambda x: x.est, reverse=True)[:5]\\n\\nprint(f\"\\n Top 5 Recommended Books for User {user_id}:\")\\nfor pred in top_5:\\n    print(f\"Book ID: {pred.iid}, Predicted Rating: {round(pred.est, 2)}\")'"
      ]
     },
     "execution_count": 15,
     "metadata": {},
     "output_type": "execute_result"
    }
   ],
   "source": [
    "import pandas as pd\n",
    "from surprise import Dataset, Reader, SVD\n",
    "from surprise.model_selection import train_test_split\n",
    "from surprise.accuracy import rmse\n",
    "\n",
    "# Step 1: Load ratings data\n",
    "ratings = pd.read_csv('books/Ratings.csv')\n",
    "print(ratings.columns)\n",
    "ratings = ratings[['User-ID', 'ISBN', 'Book-Rating']]\n",
    "ratings.columns = ['user_id', 'book_id', 'rating']\n",
    "\n",
    "# Step 2: Remove 0 ratings (they mean \"not rated\")\n",
    "ratings = ratings[ratings['rating'] > 0]\n",
    "\n",
    "# # Step 3: Keep only users who have rated at least 20 books (optional)\n",
    "# user_counts = ratings['user_id'].value_counts()\n",
    "# ratings = ratings[ratings['user_id'].isin(user_counts[user_counts >= 20].index)]\n",
    "\n",
    "# Step 4: Convert to Surprise dataset\n",
    "reader = Reader(rating_scale=(1, 10))  # Book ratings are from 1 to 10\n",
    "data = Dataset.load_from_df(ratings[['user_id', 'book_id', 'rating']], reader)\n",
    "\n",
    "# Step 5: Train/test split\n",
    "trainset, testset = train_test_split(data, test_size=0.2, random_state=42)\n",
    "\n",
    "# Step 6: Train the SVD model\n",
    "model = SVD()\n",
    "model.fit(trainset)\n",
    "\n",
    "# Build fallback popularity-based model (avg rating + count)\n",
    "popular_books = (\n",
    "    ratings.groupby('book_id')\n",
    "    .agg(avg_rating=('rating', 'mean'), rating_count=('rating', 'count'))\n",
    "    .reset_index()\n",
    ")\n",
    "\n",
    "# Recommend top 5 books by popularity\n",
    "def fallback_recommendations(top_n=5):\n",
    "    top_books = popular_books.sort_values(\n",
    "        by=['rating_count', 'avg_rating'], ascending=False\n",
    "    ).head(top_n)\n",
    "    return top_books[['book_id', 'avg_rating', 'rating_count']]\n",
    "\n",
    "def recommend_books(user_id, top_n=5):\n",
    "    try:\n",
    "        user_id = int(user_id)\n",
    "    except:\n",
    "        return \"Invalid user ID\"\n",
    "\n",
    "    if user_id not in ratings['user_id'].values:\n",
    "        print(f\"\\n New user detected. Showing fallback recommendations.\")\n",
    "        return fallback_recommendations(top_n).values.tolist()\n",
    "\n",
    "    all_books = ratings['book_id'].unique()\n",
    "    rated_books = ratings[ratings['user_id'] == user_id]['book_id']\n",
    "    unseen_books = [book for book in all_books if book not in rated_books.values]\n",
    "\n",
    "    predictions = [model.predict(str(user_id), book_id) for book_id in unseen_books]\n",
    "    top_preds = sorted(predictions, key=lambda x: x.est, reverse=True)[:top_n]\n",
    "\n",
    "    return [(pred.iid, round(pred.est, 2)) for pred in top_preds]\n",
    "\n",
    "'''\n",
    "# Step 7: Recommend top 5 books to a user\n",
    "user_id = str(ratings['user_id'].iloc[0])  # pick any user from the dataset\n",
    "\n",
    "# Get all book IDs\n",
    "all_books = ratings['book_id'].unique()\n",
    "rated_books = ratings[ratings['user_id'] == int(user_id)]['book_id']\n",
    "unseen_books = [book for book in all_books if book not in rated_books.values]\n",
    "\n",
    "# Predict ratings\n",
    "predictions = [model.predict(user_id, book_id) for book_id in unseen_books]\n",
    "top_5 = sorted(predictions, key=lambda x: x.est, reverse=True)[:5]\n",
    "\n",
    "print(f\"\\n Top 5 Recommended Books for User {user_id}:\")\n",
    "for pred in top_5:\n",
    "    print(f\"Book ID: {pred.iid}, Predicted Rating: {round(pred.est, 2)}\")'''\n"
   ]
  },
  {
   "cell_type": "code",
   "execution_count": 16,
   "id": "123f6d62",
   "metadata": {},
   "outputs": [
    {
     "name": "stdout",
     "output_type": "stream",
     "text": [
      "\n",
      " New user detected. Showing fallback recommendations.\n",
      "\n",
      "Top Recommendations for User 1:\n",
      "['0316666343', 8.185289957567186, 707]\n",
      "['0971880107', 4.3907056798623065, 581]\n",
      "['0385504209', 8.435318275154003, 487]\n",
      "['0312195516', 8.182767624020888, 383]\n",
      "['0679781587', 8.408408408408409, 333]\n"
     ]
    }
   ],
   "source": [
    "user_id = input(\"Enter User ID: \")\n",
    "result = recommend_books(user_id)\n",
    "\n",
    "print(f\"\\nTop Recommendations for User {user_id}:\")\n",
    "for rec in result:\n",
    "    print(rec)\n"
   ]
  },
  {
   "cell_type": "code",
   "execution_count": 17,
   "id": "81acb8a9",
   "metadata": {},
   "outputs": [
    {
     "name": "stdout",
     "output_type": "stream",
     "text": [
      "Ratings loaded: 433671\n",
      "RMSE: 1.6405\n",
      "\n",
      " New user detected. Showing fallback recommendations.\n",
      "\n",
      "Top 5 Recommendations for User 1:\n",
      "['0316666343', 8.185289957567186, 707]\n",
      "['0971880107', 4.3907056798623065, 581]\n",
      "['0385504209', 8.435318275154003, 487]\n",
      "['0312195516', 8.182767624020888, 383]\n",
      "['0679781587', 8.408408408408409, 333]\n"
     ]
    }
   ],
   "source": [
    "import pandas as pd\n",
    "from surprise import Dataset, Reader, SVD\n",
    "from surprise.model_selection import train_test_split\n",
    "from surprise.accuracy import rmse\n",
    "\n",
    "\n",
    "# STEP 1: Load and clean the data\n",
    "\n",
    "\n",
    "# Load the dataset\n",
    "ratings = pd.read_csv('books/Ratings.csv')  # Make sure this file exists\n",
    "ratings = ratings[['User-ID', 'ISBN', 'Book-Rating']]\n",
    "ratings.columns = ['user_id', 'book_id', 'rating']\n",
    "\n",
    "\n",
    "# Remove rows with 0 rating (0 = not rated)\n",
    "ratings = ratings[ratings['rating'] > 0]\n",
    "\n",
    "# Ensure ratings are integers\n",
    "ratings['rating'] = ratings['rating'].astype(int)\n",
    "\n",
    "# # Keep only users with 20+ ratings (optional)\n",
    "# user_counts = ratings['user_id'].value_counts()\n",
    "# ratings = ratings[ratings['user_id'].isin(user_counts[user_counts >= 20].index)]\n",
    "\n",
    "print(\"Ratings loaded:\", len(ratings))\n",
    "\n",
    "\n",
    "# STEP 2: Prepare data for the Surprise model\n",
    "\n",
    "\n",
    "reader = Reader(rating_scale=(1, 10))\n",
    "data = Dataset.load_from_df(ratings[['user_id', 'book_id', 'rating']], reader)\n",
    "\n",
    "\n",
    "# STEP 3: Train-test split & model\n",
    "\n",
    "\n",
    "trainset, testset = train_test_split(data, test_size=0.2, random_state=42)\n",
    "\n",
    "model = SVD()\n",
    "model.fit(trainset)\n",
    "\n",
    "# Evaluate accuracy (optional)\n",
    "predictions = model.test(testset)\n",
    "rmse(predictions)\n",
    "\n",
    "\n",
    "# STEP 4: Build fallback (popularity)\n",
    "\n",
    "\n",
    "popular_books = (\n",
    "    ratings.groupby('book_id')\n",
    "    .agg(avg_rating=('rating', 'mean'), rating_count=('rating', 'count'))\n",
    "    .reset_index()\n",
    ")\n",
    "\n",
    "def fallback_recommendations(top_n=5):\n",
    "    top_books = popular_books.sort_values(\n",
    "        by=['rating_count', 'avg_rating'], ascending=False\n",
    "    ).head(top_n)\n",
    "    return top_books[['book_id', 'avg_rating', 'rating_count']]\n",
    "\n",
    "\n",
    "# STEP 5: Recommend books (personalized or fallback)\n",
    "\n",
    "\n",
    "def recommend_books(user_id, top_n=5):\n",
    "    try:\n",
    "        user_id = int(user_id)\n",
    "    except:\n",
    "        return \"Invalid user ID\"\n",
    "\n",
    "    if user_id not in ratings['user_id'].values:\n",
    "        print(f\"\\n New user detected. Showing fallback recommendations.\")\n",
    "        return fallback_recommendations(top_n).values.tolist()\n",
    "\n",
    "    all_books = ratings['book_id'].unique()\n",
    "    rated_books = ratings[ratings['user_id'] == user_id]['book_id']\n",
    "    unseen_books = [book for book in all_books if book not in rated_books.values]\n",
    "\n",
    "    predictions = [model.predict(str(user_id), book_id) for book_id in unseen_books]\n",
    "    top_preds = sorted(predictions, key=lambda x: x.est, reverse=True)[:top_n]\n",
    "\n",
    "    return [(pred.iid, round(pred.est, 2)) for pred in top_preds]\n",
    "\n",
    "\n",
    "# STEP 6: Run the system\n",
    "\n",
    "\n",
    "user_input = input(\"🔎 Enter a User ID to get recommendations: \")\n",
    "recommendations = recommend_books(user_input)\n",
    "\n",
    "print(f\"\\nTop 5 Recommendations for User {user_input}:\")\n",
    "for rec in recommendations:\n",
    "    print(rec)\n"
   ]
  },
  {
   "cell_type": "code",
   "execution_count": 18,
   "id": "2c4469e6",
   "metadata": {},
   "outputs": [],
   "source": [
    "# !pip install streamlit"
   ]
  },
  {
   "cell_type": "code",
   "execution_count": null,
   "id": "9757a4e7",
   "metadata": {},
   "outputs": [],
   "source": []
  }
 ],
 "metadata": {
  "kernelspec": {
   "display_name": "Python (tensorflow)",
   "language": "python",
   "name": "tensorflow"
  },
  "language_info": {
   "codemirror_mode": {
    "name": "ipython",
    "version": 3
   },
   "file_extension": ".py",
   "mimetype": "text/x-python",
   "name": "python",
   "nbconvert_exporter": "python",
   "pygments_lexer": "ipython3",
   "version": "3.8.12"
  }
 },
 "nbformat": 4,
 "nbformat_minor": 5
}
